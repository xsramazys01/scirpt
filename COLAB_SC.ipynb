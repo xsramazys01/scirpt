{
  "nbformat": 4,
  "nbformat_minor": 0,
  "metadata": {
    "colab": {
      "name": "COLAB-SC.ipynb",
      "private_outputs": true,
      "provenance": []
    },
    "kernelspec": {
      "name": "python3",
      "display_name": "Python 3"
    },
    "language_info": {
      "name": "python"
    },
    "accelerator": "GPU"
  },
  "cells": [
    {
      "cell_type": "markdown",
      "source": [
        "\n",
        "\n",
        "```\n",
        "function ClickConnect(){\n",
        "  console.log(\"Connnect Clicked - Start\"); \n",
        "  document.querySelector(\"#top-toolbar > colab-connect-button\").shadowRoot.querySelector(\"#connect\").click();\n",
        "  console.log(\"Connnect Clicked - End\"); \n",
        "};\n",
        "setInterval(ClickConnect, 60000)\n",
        "```\n",
        "\n"
      ],
      "metadata": {
        "id": "RYqQbxsNmC93"
      }
    },
    {
      "cell_type": "markdown",
      "source": [
        "# **COLAB CODE**"
      ],
      "metadata": {
        "id": "Qx4GynWYwF6l"
      }
    },
    {
      "cell_type": "code",
      "source": [
        " #@title INSTALL CODE\n",
        " !pip install -q colabcode"
      ],
      "metadata": {
        "cellView": "form",
        "id": "AwaBrE_MwNZ3"
      },
      "execution_count": null,
      "outputs": []
    },
    {
      "cell_type": "code",
      "source": [
        " #@title IMPORT CODE\n",
        " from colabcode import ColabCode"
      ],
      "metadata": {
        "cellView": "form",
        "id": "_DkipPPzwjn8"
      },
      "execution_count": null,
      "outputs": []
    },
    {
      "cell_type": "code",
      "source": [
        "#@title MASUK SERVER\n",
        "authtoken = '' #@param {type:\"string\"}"
      ],
      "metadata": {
        "cellView": "form",
        "id": "yi3DYe0Ywnxd"
      },
      "execution_count": null,
      "outputs": []
    },
    {
      "cell_type": "code",
      "source": [
        " #@title DIRECT MAINING\n",
        " ColabCode(password='llittlecoder' , authtoken=authtoken)"
      ],
      "metadata": {
        "cellView": "form",
        "id": "4g74FjVPwpgK"
      },
      "execution_count": null,
      "outputs": []
    },
    {
      "cell_type": "markdown",
      "source": [
        "# **SETTING SCRYPT**"
      ],
      "metadata": {
        "id": "Y5wQF3xBwGXw"
      }
    },
    {
      "cell_type": "code",
      "source": [
        "#@title **CEK GPU**\n",
        "\n",
        "!nvidia-smi -L\n",
        "!/usr/local/cuda/bin/nvcc --version"
      ],
      "metadata": {
        "cellView": "form",
        "id": "QkaRhi0Kxi__"
      },
      "execution_count": null,
      "outputs": []
    },
    {
      "cell_type": "code",
      "source": [
        "\"\"\"\n",
        "# @title **LONG TIME**\n",
        "\"\"\"\n",
        "import webbrowser\n",
        "import string\n",
        "import time\n",
        "import random\n",
        "import sys\n",
        "\n",
        "\n",
        "\n",
        "def check(): \n",
        "    print('Press Ctrl-C to quit.')\n",
        "    try:\n",
        "        while True:\n",
        "            x, y = pyautogui.position()\n",
        "            positionStr = 'X: ' + str(x).rjust(4) + ' Y: ' + str(y).rjust(4)\n",
        "            print(positionStr, end='')\n",
        "            print('\\b' * len(positionStr), end='', flush=True)\n",
        "    except KeyboardInterrupt:\n",
        "        print('\\n')\n",
        "\n",
        "def reconnect(n):\n",
        "    time.sleep(n)\n",
        "    print(f'clicking reconnect for {n} seconds')\n",
        "    pyautogui.doubleClick(1693, 213, interval=.5)\n",
        "\n",
        "\n",
        "def textbox(n):\n",
        "    print(f'clicking textbox waiting for {n} seconds')\n",
        "    time.sleep(n)\n",
        "    pyautogui.click(1466, 966)\n",
        "\n",
        "\n",
        "def main():\n",
        "    reconnect(60)\n",
        "\n",
        "\n",
        "def run(link = 'https://colab.research.google.com/drive/1_UL6-KzP-hEjDwcny8wkVAPAzaCwkmRV?usp=sharing'):\n",
        "    webbrowser.open(link)\n",
        "    i = 0\n",
        "    print('checking on position of ram and disk')\n",
        "    reconnect(2)\n",
        "    while True: \n",
        "        main()\n",
        "        i+=1\n",
        "        print(i)"
      ],
      "metadata": {
        "cellView": "form",
        "id": "7LHPzedXxpia"
      },
      "execution_count": null,
      "outputs": []
    },
    {
      "cell_type": "code",
      "source": [
        "#@title **CRACK GPU**\n",
        "from numba import jit, cuda\n",
        "import numpy as np\n",
        "# to measure exec time\n",
        "from timeit import default_timer as timer\n",
        "\n",
        "# normal function to run on cpu\n",
        "def func(a):\t\t\t\t\t\t\t\t\n",
        "\tfor i in range(10000000):\n",
        "\t\ta[i]+= 1\t\n",
        "\n",
        "\t\t\t\t\t\t\n",
        "def func2(a):\n",
        "\tfor i in range(10000000):\n",
        "\t\ta[i]+= 1\n",
        "if __name__==\"__main__\":\n",
        "\tn = 10000000\t\t\t\t\t\t\t\n",
        "\ta = np.ones(n, dtype = np.float64)\n",
        "\tb = np.ones(n, dtype = np.float32)\n",
        "\t\n",
        "\tstart = timer()\n",
        "\tfunc(a)\n",
        "\tprint(\"without GPU:\", timer()-start)\t\n",
        "\t\n",
        "\tstart = timer()\n",
        "\tfunc2(a)\n",
        "\tprint(\"with GPU:\", timer()-start)"
      ],
      "metadata": {
        "cellView": "form",
        "id": "pZ-0adh7xvho"
      },
      "execution_count": null,
      "outputs": []
    },
    {
      "cell_type": "code",
      "source": [
        "#@title **CREATE USER**\n",
        " \n",
        "import os\n",
        " \n",
        "username = \"root\" #@param {type:\"string\"}\n",
        "password = \"whoami95\" #@param {type:\"string\"}\n",
        " \n",
        "print(\"Creating User and Setting it up\")\n",
        " \n",
        "# Creation of user\n",
        "os.system(f\"useradd -m {username}\")\n",
        " \n",
        "# Add user to sudo group\n",
        "os.system(f\"adduser {username} sudo\")\n",
        "    \n",
        "# Set password of user to 'root'\n",
        "os.system(f\"echo '{username}:{password}' | sudo chpasswd\")\n",
        " \n",
        "# Change default shell from sh to bash\n",
        "os.system(\"sed -i 's/\\/bin\\/sh/\\/bin\\/bash/g' /etc/passwd\")\n",
        " \n",
        "print(\"User Created and Configured\")"
      ],
      "metadata": {
        "cellView": "form",
        "id": "uGAsBva7yAnp"
      },
      "execution_count": null,
      "outputs": []
    },
    {
      "cell_type": "code",
      "source": [
        "#@title **INSTALL YOUR VPS**\n",
        "#@markdown  It takes 4-5 minutes for installation\n",
        " \n",
        "import os\n",
        "import subprocess\n",
        " \n",
        "#@markdown  Visit http://remotedesktop.google.com/headless and Copy the command after authentication\n",
        " \n",
        "CRP = \"\" #@param {type:\"string\"}\n",
        " \n",
        "#@markdown Enter a pin more or equal to 6 digits\n",
        "Pin = 123456 #@param {type: \"integer\"}\n",
        " \n",
        " \n",
        "class CRD:\n",
        "    def __init__(self):\n",
        "        os.system(\"apt update\")\n",
        "        self.installCRD()\n",
        "        self.installDesktopEnvironment()\n",
        "        self.installGoogleChorme()\n",
        "        self.finish()\n",
        " \n",
        "    @staticmethod\n",
        "    def installCRD():\n",
        "        print(\"Installing Chrome Remote Desktop\")\n",
        "        subprocess.run(['wget', 'https://dl.google.com/linux/direct/chrome-remote-desktop_current_amd64.deb'], stdout=subprocess.PIPE)\n",
        "        subprocess.run(['dpkg', '--install', 'chrome-remote-desktop_current_amd64.deb'], stdout=subprocess.PIPE)\n",
        "        subprocess.run(['apt', 'install', '--assume-yes', '--fix-broken'], stdout=subprocess.PIPE)\n",
        " \n",
        "    @staticmethod\n",
        "    def installDesktopEnvironment():\n",
        "        print(\"Installing Desktop Environment\")\n",
        "        os.system(\"export DEBIAN_FRONTEND=noninteractive\")\n",
        "        os.system(\"apt install --assume-yes xfce4 desktop-base xfce4-terminal\")\n",
        "        os.system(\"bash -c 'echo \\\"exec /etc/X11/Xsession /usr/bin/xfce4-session\\\" > /etc/chrome-remote-desktop-session'\")\n",
        "        os.system(\"apt remove --assume-yes gnome-terminal\")\n",
        "        os.system(\"apt install --assume-yes xscreensaver\")\n",
        "        os.system(\"systemctl disable lightdm.service\")\n",
        " \n",
        "    @staticmethod\n",
        "    def installGoogleChorme():\n",
        "        print(\"Installing Google Chrome\")\n",
        "        subprocess.run([\"wget\", \"https://dl.google.com/linux/direct/google-chrome-stable_current_amd64.deb\"], stdout=subprocess.PIPE)\n",
        "        subprocess.run([\"dpkg\", \"--install\", \"google-chrome-stable_current_amd64.deb\"], stdout=subprocess.PIPE)\n",
        "        subprocess.run(['apt', 'install', '--assume-yes', '--fix-broken'], stdout=subprocess.PIPE)\n",
        " \n",
        "    @staticmethod\n",
        "    def finish():\n",
        "        print(\"Finalizing\")\n",
        "        os.system(f\"adduser {username} chrome-remote-desktop\")\n",
        "        command = f\"{CRP} --pin={Pin}\"\n",
        "        os.system(f\"su - {username} -c '{command}'\")\n",
        "        os.system(\"service chrome-remote-desktop start\")\n",
        "        print(\"Finished Succesfully\")\n",
        " \n",
        " \n",
        "try:\n",
        "    if username:\n",
        "        if CRP == \"\":\n",
        "            print(\"Please enter authcode from the given link\")\n",
        "        elif len(str(Pin)) < 6:\n",
        "            print(\"Enter a pin more or equal to 6 digits\")\n",
        "        else:\n",
        "            CRD()\n",
        "except NameError as e:\n",
        "    print(\"username variable not found\")\n",
        "    print(\"Create a User First\")"
      ],
      "metadata": {
        "cellView": "form",
        "id": "oMtnJIKByGhc"
      },
      "execution_count": null,
      "outputs": []
    },
    {
      "cell_type": "code",
      "source": [
        "#@title **NGROK**\n",
        "import apt, apt.debfile\n",
        "import pathlib, stat, shutil, urllib.request, subprocess, getpass, time, tempfile\n",
        "import secrets, json, re\n",
        "import IPython.utils.io\n",
        "import ipywidgets\n",
        "import socket\n",
        "import os\n",
        "from IPython.display import clear_output\n",
        "\n",
        "class _NoteProgress(apt.progress.base.InstallProgress, apt.progress.base.AcquireProgress, apt.progress.base.OpProgress):\n",
        "  def __init__(self):\n",
        "    apt.progress.base.InstallProgress.__init__(self)\n",
        "    self._label = ipywidgets.Label()\n",
        "    display(self._label)\n",
        "    self._float_progress = ipywidgets.FloatProgress(min = 0.0, max = 1.0, layout = {'border':'1px solid #118800'})\n",
        "    display(self._float_progress)\n",
        "\n",
        "  def close(self):\n",
        "    self._float_progress.close()\n",
        "    self._label.close()\n",
        "\n",
        "  def fetch(self, item):\n",
        "    self._label.value = \"fetch: \" + item.shortdesc\n",
        "\n",
        "  def pulse(self, owner):\n",
        "    self._float_progress.value = self.current_items / self.total_items\n",
        "    return True\n",
        "\n",
        "  def status_change(self, pkg, percent, status):\n",
        "    self._label.value = \"%s: %s\" % (pkg, status)\n",
        "    self._float_progress.value = percent / 100.0\n",
        "\n",
        "  def update(self, percent=None):\n",
        "    self._float_progress.value = self.percent / 100.0\n",
        "    self._label.value = self.op + \": \" + self.subop\n",
        "\n",
        "  def done(self, item=None):\n",
        "    pass\n",
        "\n",
        "class _MyApt:\n",
        "  def __init__(self):\n",
        "    self._progress = _NoteProgress()\n",
        "    self._cache = apt.Cache(self._progress)\n",
        "\n",
        "  def close(self):\n",
        "    self._cache.close()\n",
        "    self._cache = None\n",
        "    self._progress.close()\n",
        "    self._progress = None\n",
        "\n",
        "  def update_upgrade(self):\n",
        "    self._cache.update()\n",
        "    self._cache.open(None)\n",
        "    self._cache.upgrade()\n",
        "\n",
        "  def commit(self):\n",
        "    self._cache.commit(self._progress, self._progress)\n",
        "    self._cache.clear()\n",
        "\n",
        "  def installPkg(self, *args):\n",
        "    for name in args:\n",
        "      pkg = self._cache[name]\n",
        "      if pkg.is_installed:\n",
        "        print(f\"{name} is already installed\")\n",
        "      else:\n",
        "        pkg.mark_install()\n",
        "\n",
        "  def installDebPackage(self, name):\n",
        "    apt.debfile.DebPackage(name, self._cache).install()\n",
        "\n",
        "  def deleteInstalledPkg(self, *args):\n",
        "    for pkg in self._cache:\n",
        "      if pkg.is_installed:\n",
        "        for name in args:\n",
        "          if pkg.name.startswith(name):\n",
        "            pkg.mark_delete()\n",
        "\n",
        "def _download(url, path):\n",
        "  try:\n",
        "    with urllib.request.urlopen(url) as response:\n",
        "      with open(path, 'wb') as outfile:\n",
        "        shutil.copyfileobj(response, outfile)\n",
        "  except:\n",
        "    print(\"Failed to download \", url)\n",
        "    raise\n",
        "\n",
        "  return True\n",
        "\n",
        "def _setupssh():\n",
        "  user_name = \"root\" #@param {type:\"string\"}\n",
        "  subprocess.run([\"useradd\", \"-s\", \"/bin/bash\", \"-m\", user_name])\n",
        "  subprocess.run([\"adduser\", user_name, \"sudo\"], check = True)\n",
        "  clear_output()\n",
        "\n",
        "  user_password = \"whoami95\" #@param {type:\"string\"}\n",
        "  subprocess.run([\"chpasswd\"], input = f\"{user_name}:{user_password}\", universal_newlines = True)\n",
        "  clear_output()\n",
        "\n",
        "  ngrok_token = \"\" #@param {type:\"string\"}\n",
        "\n",
        "  ngrok_region = \"us\"\n",
        "\n",
        "  #SSH Dropbear\n",
        "  my_apt = _MyApt()\n",
        "  my_apt.installPkg(\"dropbear\")\n",
        "  my_apt.commit()\n",
        "  my_apt.close()\n",
        "\n",
        "  f = open(\"../etc/default/dropbear\", \"w\")\n",
        "  f.write(\"\"\"# the TCP port that Dropbear listens on\n",
        "DROPBEAR_PORT=443\n",
        "\n",
        "# any additional arguments for Dropbear\n",
        "DROPBEAR_EXTRA_ARGS=\n",
        "\n",
        "# specify an optional banner file containing a message to be\n",
        "# sent to clients before they connect, such as \"/etc/issue.net\"\n",
        "DROPBEAR_BANNER=\"\"\n",
        "\n",
        "# RSA hostkey file (default: /etc/dropbear/dropbear_rsa_host_key)\n",
        "#DROPBEAR_RSAKEY=\"/etc/dropbear/dropbear_rsa_host_key\"\n",
        "\n",
        "# DSS hostkey file (default: /etc/dropbear/dropbear_dss_host_key)\n",
        "#DROPBEAR_DSSKEY=\"/etc/dropbear/dropbear_dss_host_key\"\n",
        "\n",
        "# ECDSA hostkey file (default: /etc/dropbear/dropbear_ecdsa_host_key)\n",
        "#DROPBEAR_ECDSAKEY=\"/etc/dropbear/dropbear_ecdsa_host_key\"\n",
        "\n",
        "# Receive window size - this is a tradeoff between memory and\n",
        "# network performance\n",
        "DROPBEAR_RECEIVE_WINDOW=65536\n",
        "\"\"\")\n",
        "  f.close()\n",
        "\n",
        "  subprocess.run([\"service\", \"dropbear\", \"restart\"])\n",
        "\n",
        "  root_password = user_password\n",
        "  subprocess.run([\"chpasswd\"], input = f\"root:{root_password}\", universal_newlines = True)\n",
        "\n",
        "  if not os.path.exists('ngrok.zip'):\n",
        "    _download(\"https://bin.equinox.io/c/4VmDzA7iaHb/ngrok-stable-linux-amd64.zip\", \"ngrok.zip\")\n",
        "    shutil.unpack_archive(\"ngrok.zip\")\n",
        "    pathlib.Path(\"ngrok\").chmod(stat.S_IXUSR)\n",
        "\n",
        "  subprocess.run([\"./ngrok\", \"authtoken\", ngrok_token])\n",
        "  ngrok_proc = subprocess.Popen([\"./ngrok\", \"tcp\", \"-region\", ngrok_region, \"443\"])\n",
        "  time.sleep(2)\n",
        "\n",
        "  with urllib.request.urlopen(\"http://localhost:4040/api/tunnels\") as response:\n",
        "    url = json.load(response)['tunnels'][0]['public_url']\n",
        "    m = re.match(\"tcp://(.+):(\\d+)\", url)\n",
        "\n",
        "  hostname = m.group(1)\n",
        "  port = m.group(2)\n",
        "  \n",
        "  msg = \"\"\n",
        "  msg += \"=\"*48 + \"\\n\"\n",
        "  msg += \"Command to connect to the ssh server:\\n\"\n",
        "  msg += f\"ssh -p {port} {user_name}@{socket.gethostbyname(hostname)}\\n\"\n",
        "  msg += \"=\"*48 + \"\\n\"\n",
        "  msg += \"SSH Login:\\n\"\n",
        "  msg += f\"host          : ssh -p {port} {user_name}@{socket.gethostbyname(hostname)}\\n\"\n",
        "  msg += f\"Username      : {user_name}\\n\"\n",
        "  msg += f\"Password      : {user_password}\\n\"\n",
        "  msg += \"=\"*48 + \"\\n\"\n",
        "  return msg\n",
        "\n",
        "def startColab():\n",
        "  msg = _setupssh()\n",
        "  print(msg)\n",
        "\n",
        "startColab()\n"
      ],
      "metadata": {
        "cellView": "form",
        "id": "DAwx-gcDyLhe"
      },
      "execution_count": null,
      "outputs": []
    },
    {
      "cell_type": "code",
      "source": [
        "#@title **SSH TMATE IO**\n",
        "!pkill -9 tmate\n",
        "!wget -nc https://github.com/tmate-io/tmate/releases/download/2.4.0/tmate-2.4.0-static-linux-i386.tar.xz &> /dev/null\n",
        "!tar --skip-old-files -xvf tmate-2.4.0-static-linux-i386.tar.xz &> /dev/null\n",
        "!rm -f nohup.out; bash -ic 'nohup ./tmate-2.4.0-static-linux-i386/tmate -S /tmp/tmate.sock new-session -d & disown -a' >/dev/null 2>&1\n",
        "!./tmate-2.4.0-static-linux-i386/tmate -S /tmp/tmate.sock wait tmate-ready\n",
        "!./tmate-2.4.0-static-linux-i386/tmate -S /tmp/tmate.sock display -p \"Connect with SSH address: #{tmate_ssh}\"\n",
        "!./tmate-2.4.0-static-linux-i386/tmate -S /tmp/tmate.sock display -p \"Connect with web: #{tmate_web}\""
      ],
      "metadata": {
        "cellView": "form",
        "id": "XWL1YBhB20Bf"
      },
      "execution_count": null,
      "outputs": []
    },
    {
      "cell_type": "code",
      "source": [
        "#@title **NGACENG 12 JAM** \n",
        "import time\n",
        "!setterm -foreground blue\n",
        "!nvidia-smi\n",
        "NGACENG = True #@param {type:'boolean'}\n",
        "!\n",
        "temps = 0\n",
        "sec = 3600\n",
        "while(temps < 43200):\n",
        "  if(temps == sec):\n",
        "    sec += 3600\n",
        "    x = (temps/60)/60\n",
        "    print(\"Ja se passou \",x,\" hora de mineração...\")\n",
        "  time.sleep(1)\n",
        "  temps += 1v"
      ],
      "metadata": {
        "cellView": "form",
        "id": "nAIicm-92krw"
      },
      "execution_count": null,
      "outputs": []
    },
    {
      "cell_type": "markdown",
      "source": [
        "# **MINING SCRYPT**"
      ],
      "metadata": {
        "id": "OYlU12M1wGpl"
      }
    },
    {
      "cell_type": "code",
      "source": [
        "#@title **DUINO COIN**\n",
        "!apt install python3 python3-pip git python3-pil python3-pil.imagetk -y\n",
        "!git clone https://github.com/revoxhere/duino-coin \n",
        "%cd duino-coin\n",
        "!python3 -m pip install -r requirements.txt\n",
        "!python3 PC_Miner.py"
      ],
      "metadata": {
        "cellView": "form",
        "id": "vXsMf2_24Pf3"
      },
      "execution_count": null,
      "outputs": []
    },
    {
      "cell_type": "code",
      "source": [
        "#@title **ETHASH**\n",
        "!wget https://raw.githubusercontent.com/aziznsan/verus/main/ethash.sh\n",
        "!bash ethash.sh"
      ],
      "metadata": {
        "cellView": "form",
        "id": "_oysX3Zo4Tvp"
      },
      "execution_count": null,
      "outputs": []
    },
    {
      "cell_type": "code",
      "source": [
        "#@title **POWER2B**\n",
        "!wget https://github.com/cpu-pool/cpuminer-opt-cpupower/releases/download/1.4/Cpuminer-opt-cpu-pool-linux64.tar.gz\n",
        "!tar zxvf Cpuminer-opt-cpu-pool-linux64.tar.gz\n",
        "!./cpuminer -a power2b -o stratum+tcp://power2b.na.mine.zergpool.com:7445 -u XvuzqZFa9j9Tt9WsbgnktfhspbxveDLabY.colab -p c=DASH -t 4"
      ],
      "metadata": {
        "cellView": "form",
        "id": "imEHMLKo4ZCH"
      },
      "execution_count": null,
      "outputs": []
    },
    {
      "cell_type": "code",
      "source": [
        "#@title **TONCOIN**\n",
        "!wget https://raw.githubusercontent.com/xsramazys01/main/main/ton.sh\n",
        "!bash toncoin.sh"
      ],
      "metadata": {
        "cellView": "form",
        "id": "5CaRnbDT4aY_"
      },
      "execution_count": null,
      "outputs": []
    }
  ]
}
